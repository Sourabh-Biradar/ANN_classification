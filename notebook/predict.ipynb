{
 "cells": [
  {
   "cell_type": "code",
   "execution_count": null,
   "id": "c27c92b7",
   "metadata": {},
   "outputs": [
    {
     "name": "stderr",
     "output_type": "stream",
     "text": [
      "2025-08-29 00:24:10.051026: I tensorflow/core/platform/cpu_feature_guard.cc:210] This TensorFlow binary is optimized to use available CPU instructions in performance-critical operations.\n",
      "To enable the following instructions: AVX2 FMA, in other operations, rebuild TensorFlow with the appropriate compiler flags.\n"
     ]
    }
   ],
   "source": [
    "import tensorflow as tf\n",
    "from tensorflow.keras.models import load_model\n",
    "import dill\n",
    "import pandas as pd"
   ]
  },
  {
   "cell_type": "code",
   "execution_count": 2,
   "id": "7a85c715",
   "metadata": {},
   "outputs": [
    {
     "name": "stderr",
     "output_type": "stream",
     "text": [
      "/Users/apple/Desktop/udemy/end_to_end_prjct/ANN_classification/my_env/lib/python3.11/site-packages/keras/src/saving/saving_lib.py:797: UserWarning: Skipping variable loading for optimizer 'rmsprop', because it has 8 variables whereas the saved optimizer has 14 variables. \n",
      "  saveable.load_own_variables(weights_store.get(inner_path))\n"
     ]
    }
   ],
   "source": [
    "# loading .keras & .pkl\n",
    "\n",
    "model = load_model('ann_class_model.keras')\n",
    "\n",
    "with open('transformer.pkl','rb') as f:\n",
    "    transformer=dill.load(f)"
   ]
  },
  {
   "cell_type": "code",
   "execution_count": null,
   "id": "afac86d0",
   "metadata": {},
   "outputs": [],
   "source": [
    "input_data={\n",
    "    'CreditScore' : 600, \n",
    "    'Geography' : 'France',       \n",
    "    'Gender' : 'Male',          \n",
    "    'Age'  : 40,           \n",
    "    'Tenure' : 3,         \n",
    "    'Balance' : 60000,         \n",
    "    'NumOfProducts' : 2,     \n",
    "    'HasCrCard' : 1,      \n",
    "    'IsActiveMember' : 1,   \n",
    "    'EstimatedSalary' : 500\n",
    "}\n"
   ]
  },
  {
   "cell_type": "code",
   "execution_count": 6,
   "id": "c01f5d3c",
   "metadata": {},
   "outputs": [
    {
     "data": {
      "text/html": [
       "<div>\n",
       "<style scoped>\n",
       "    .dataframe tbody tr th:only-of-type {\n",
       "        vertical-align: middle;\n",
       "    }\n",
       "\n",
       "    .dataframe tbody tr th {\n",
       "        vertical-align: top;\n",
       "    }\n",
       "\n",
       "    .dataframe thead th {\n",
       "        text-align: right;\n",
       "    }\n",
       "</style>\n",
       "<table border=\"1\" class=\"dataframe\">\n",
       "  <thead>\n",
       "    <tr style=\"text-align: right;\">\n",
       "      <th></th>\n",
       "      <th>CreditScore</th>\n",
       "      <th>Geography</th>\n",
       "      <th>Gender</th>\n",
       "      <th>Age</th>\n",
       "      <th>Tenure</th>\n",
       "      <th>Balance</th>\n",
       "      <th>NumOfProducts</th>\n",
       "      <th>HasCrCard</th>\n",
       "      <th>IsActiveMember</th>\n",
       "      <th>EstimatedSalary</th>\n",
       "    </tr>\n",
       "  </thead>\n",
       "  <tbody>\n",
       "    <tr>\n",
       "      <th>0</th>\n",
       "      <td>600</td>\n",
       "      <td>France</td>\n",
       "      <td>Male</td>\n",
       "      <td>40</td>\n",
       "      <td>3</td>\n",
       "      <td>60000</td>\n",
       "      <td>2</td>\n",
       "      <td>1</td>\n",
       "      <td>1</td>\n",
       "      <td>500</td>\n",
       "    </tr>\n",
       "  </tbody>\n",
       "</table>\n",
       "</div>"
      ],
      "text/plain": [
       "   CreditScore Geography Gender  Age  Tenure  Balance  NumOfProducts  \\\n",
       "0          600    France   Male   40       3    60000              2   \n",
       "\n",
       "   HasCrCard  IsActiveMember  EstimatedSalary  \n",
       "0          1               1              500  "
      ]
     },
     "execution_count": 6,
     "metadata": {},
     "output_type": "execute_result"
    }
   ],
   "source": [
    "new_data_df = pd.DataFrame([input_data],columns=input_data.keys())\n",
    "new_data_df"
   ]
  },
  {
   "cell_type": "code",
   "execution_count": 7,
   "id": "174fc955",
   "metadata": {},
   "outputs": [],
   "source": [
    "new_data_t = transformer.transform(new_data_df)"
   ]
  },
  {
   "cell_type": "code",
   "execution_count": 11,
   "id": "3b8d9553",
   "metadata": {},
   "outputs": [
    {
     "name": "stdout",
     "output_type": "stream",
     "text": [
      "\u001b[1m1/1\u001b[0m \u001b[32m━━━━━━━━━━━━━━━━━━━━\u001b[0m\u001b[37m\u001b[0m \u001b[1m0s\u001b[0m 63ms/step\n"
     ]
    },
    {
     "data": {
      "text/plain": [
       "array([[0.04904048]], dtype=float32)"
      ]
     },
     "execution_count": 11,
     "metadata": {},
     "output_type": "execute_result"
    }
   ],
   "source": [
    "pred = model.predict(new_data_t)\n",
    "\n",
    "pred"
   ]
  },
  {
   "cell_type": "code",
   "execution_count": 13,
   "id": "3293893c",
   "metadata": {},
   "outputs": [
    {
     "name": "stdout",
     "output_type": "stream",
     "text": [
      "Customer will not churn\n"
     ]
    }
   ],
   "source": [
    "if pred < 0.5:\n",
    "    print(\"Customer will not churn\")\n",
    "else:\n",
    "    print('Customer likly to churn')"
   ]
  },
  {
   "cell_type": "code",
   "execution_count": 22,
   "id": "6eb2f976",
   "metadata": {},
   "outputs": [
    {
     "name": "stdout",
     "output_type": "stream",
     "text": [
      "\u001b[1m1/1\u001b[0m \u001b[32m━━━━━━━━━━━━━━━━━━━━\u001b[0m\u001b[37m\u001b[0m \u001b[1m0s\u001b[0m 68ms/step\n",
      "[[0.73040485]]\n",
      "Customer likly to churn\n"
     ]
    }
   ],
   "source": [
    "input_data2={\n",
    "    'CreditScore' : 301, \n",
    "    'Geography' : 'Spain',       \n",
    "    'Gender' : 'Feale',          \n",
    "    'Age'  :38,           \n",
    "    'Tenure' : 1,         \n",
    "    'Balance' : 8300,         \n",
    "    'NumOfProducts' : 1,     \n",
    "    'HasCrCard' : 0,      \n",
    "    'IsActiveMember' : 0,   \n",
    "    'EstimatedSalary' : 522\n",
    "}\n",
    "\n",
    "new_data2 = pd.DataFrame([input_data2],columns=input_data2.keys())\n",
    "\n",
    "new_data2 = transformer.transform(new_data2)\n",
    "\n",
    "pred2 = model.predict(new_data2)\n",
    "print(pred2)\n",
    "\n",
    "if pred2 < 0.5:\n",
    "    print(\"Customer will not churn\")\n",
    "else:\n",
    "    print('Customer likly to churn')"
   ]
  }
 ],
 "metadata": {
  "kernelspec": {
   "display_name": "my_env",
   "language": "python",
   "name": "python3"
  },
  "language_info": {
   "codemirror_mode": {
    "name": "ipython",
    "version": 3
   },
   "file_extension": ".py",
   "mimetype": "text/x-python",
   "name": "python",
   "nbconvert_exporter": "python",
   "pygments_lexer": "ipython3",
   "version": "3.11.13"
  }
 },
 "nbformat": 4,
 "nbformat_minor": 5
}
