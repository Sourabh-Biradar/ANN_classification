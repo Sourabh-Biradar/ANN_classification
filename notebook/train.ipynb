{
 "cells": [
  {
   "cell_type": "code",
   "execution_count": 62,
   "id": "6f49eaae",
   "metadata": {},
   "outputs": [],
   "source": [
    "# End to End Project\n",
    "# Deep Learning\n",
    "# ANN classification"
   ]
  },
  {
   "cell_type": "code",
   "execution_count": 3,
   "id": "5875bb69",
   "metadata": {},
   "outputs": [],
   "source": [
    "import pandas as pd\n",
    "import dill"
   ]
  },
  {
   "cell_type": "code",
   "execution_count": 4,
   "id": "c03813d7",
   "metadata": {},
   "outputs": [
    {
     "data": {
      "text/html": [
       "<div>\n",
       "<style scoped>\n",
       "    .dataframe tbody tr th:only-of-type {\n",
       "        vertical-align: middle;\n",
       "    }\n",
       "\n",
       "    .dataframe tbody tr th {\n",
       "        vertical-align: top;\n",
       "    }\n",
       "\n",
       "    .dataframe thead th {\n",
       "        text-align: right;\n",
       "    }\n",
       "</style>\n",
       "<table border=\"1\" class=\"dataframe\">\n",
       "  <thead>\n",
       "    <tr style=\"text-align: right;\">\n",
       "      <th></th>\n",
       "      <th>RowNumber</th>\n",
       "      <th>CustomerId</th>\n",
       "      <th>Surname</th>\n",
       "      <th>CreditScore</th>\n",
       "      <th>Geography</th>\n",
       "      <th>Gender</th>\n",
       "      <th>Age</th>\n",
       "      <th>Tenure</th>\n",
       "      <th>Balance</th>\n",
       "      <th>NumOfProducts</th>\n",
       "      <th>HasCrCard</th>\n",
       "      <th>IsActiveMember</th>\n",
       "      <th>EstimatedSalary</th>\n",
       "      <th>Exited</th>\n",
       "    </tr>\n",
       "  </thead>\n",
       "  <tbody>\n",
       "    <tr>\n",
       "      <th>0</th>\n",
       "      <td>1</td>\n",
       "      <td>15634602</td>\n",
       "      <td>Hargrave</td>\n",
       "      <td>619</td>\n",
       "      <td>France</td>\n",
       "      <td>Female</td>\n",
       "      <td>42</td>\n",
       "      <td>2</td>\n",
       "      <td>0.00</td>\n",
       "      <td>1</td>\n",
       "      <td>1</td>\n",
       "      <td>1</td>\n",
       "      <td>101348.88</td>\n",
       "      <td>1</td>\n",
       "    </tr>\n",
       "    <tr>\n",
       "      <th>1</th>\n",
       "      <td>2</td>\n",
       "      <td>15647311</td>\n",
       "      <td>Hill</td>\n",
       "      <td>608</td>\n",
       "      <td>Spain</td>\n",
       "      <td>Female</td>\n",
       "      <td>41</td>\n",
       "      <td>1</td>\n",
       "      <td>83807.86</td>\n",
       "      <td>1</td>\n",
       "      <td>0</td>\n",
       "      <td>1</td>\n",
       "      <td>112542.58</td>\n",
       "      <td>0</td>\n",
       "    </tr>\n",
       "    <tr>\n",
       "      <th>2</th>\n",
       "      <td>3</td>\n",
       "      <td>15619304</td>\n",
       "      <td>Onio</td>\n",
       "      <td>502</td>\n",
       "      <td>France</td>\n",
       "      <td>Female</td>\n",
       "      <td>42</td>\n",
       "      <td>8</td>\n",
       "      <td>159660.80</td>\n",
       "      <td>3</td>\n",
       "      <td>1</td>\n",
       "      <td>0</td>\n",
       "      <td>113931.57</td>\n",
       "      <td>1</td>\n",
       "    </tr>\n",
       "    <tr>\n",
       "      <th>3</th>\n",
       "      <td>4</td>\n",
       "      <td>15701354</td>\n",
       "      <td>Boni</td>\n",
       "      <td>699</td>\n",
       "      <td>France</td>\n",
       "      <td>Female</td>\n",
       "      <td>39</td>\n",
       "      <td>1</td>\n",
       "      <td>0.00</td>\n",
       "      <td>2</td>\n",
       "      <td>0</td>\n",
       "      <td>0</td>\n",
       "      <td>93826.63</td>\n",
       "      <td>0</td>\n",
       "    </tr>\n",
       "    <tr>\n",
       "      <th>4</th>\n",
       "      <td>5</td>\n",
       "      <td>15737888</td>\n",
       "      <td>Mitchell</td>\n",
       "      <td>850</td>\n",
       "      <td>Spain</td>\n",
       "      <td>Female</td>\n",
       "      <td>43</td>\n",
       "      <td>2</td>\n",
       "      <td>125510.82</td>\n",
       "      <td>1</td>\n",
       "      <td>1</td>\n",
       "      <td>1</td>\n",
       "      <td>79084.10</td>\n",
       "      <td>0</td>\n",
       "    </tr>\n",
       "  </tbody>\n",
       "</table>\n",
       "</div>"
      ],
      "text/plain": [
       "   RowNumber  CustomerId   Surname  CreditScore Geography  Gender  Age  \\\n",
       "0          1    15634602  Hargrave          619    France  Female   42   \n",
       "1          2    15647311      Hill          608     Spain  Female   41   \n",
       "2          3    15619304      Onio          502    France  Female   42   \n",
       "3          4    15701354      Boni          699    France  Female   39   \n",
       "4          5    15737888  Mitchell          850     Spain  Female   43   \n",
       "\n",
       "   Tenure    Balance  NumOfProducts  HasCrCard  IsActiveMember  \\\n",
       "0       2       0.00              1          1               1   \n",
       "1       1   83807.86              1          0               1   \n",
       "2       8  159660.80              3          1               0   \n",
       "3       1       0.00              2          0               0   \n",
       "4       2  125510.82              1          1               1   \n",
       "\n",
       "   EstimatedSalary  Exited  \n",
       "0        101348.88       1  \n",
       "1        112542.58       0  \n",
       "2        113931.57       1  \n",
       "3         93826.63       0  \n",
       "4         79084.10       0  "
      ]
     },
     "execution_count": 4,
     "metadata": {},
     "output_type": "execute_result"
    }
   ],
   "source": [
    "df = pd.read_csv('/Users/apple/Desktop/udemy/end_to_end_prjct/ANN_classification/Churn_Modelling.csv')\n",
    "\n",
    "df.head()"
   ]
  },
  {
   "cell_type": "code",
   "execution_count": 65,
   "id": "1736e896",
   "metadata": {},
   "outputs": [],
   "source": [
    "# drop irrelavent columns\n",
    "df = df.drop(['RowNumber','CustomerId','Surname'],axis=1)"
   ]
  },
  {
   "cell_type": "code",
   "execution_count": 66,
   "id": "a3f34890",
   "metadata": {},
   "outputs": [
    {
     "name": "stdout",
     "output_type": "stream",
     "text": [
      "<class 'pandas.core.frame.DataFrame'>\n",
      "RangeIndex: 10000 entries, 0 to 9999\n",
      "Data columns (total 11 columns):\n",
      " #   Column           Non-Null Count  Dtype  \n",
      "---  ------           --------------  -----  \n",
      " 0   CreditScore      10000 non-null  int64  \n",
      " 1   Geography        10000 non-null  object \n",
      " 2   Gender           10000 non-null  object \n",
      " 3   Age              10000 non-null  int64  \n",
      " 4   Tenure           10000 non-null  int64  \n",
      " 5   Balance          10000 non-null  float64\n",
      " 6   NumOfProducts    10000 non-null  int64  \n",
      " 7   HasCrCard        10000 non-null  int64  \n",
      " 8   IsActiveMember   10000 non-null  int64  \n",
      " 9   EstimatedSalary  10000 non-null  float64\n",
      " 10  Exited           10000 non-null  int64  \n",
      "dtypes: float64(2), int64(7), object(2)\n",
      "memory usage: 859.5+ KB\n"
     ]
    }
   ],
   "source": [
    "df.info()"
   ]
  },
  {
   "cell_type": "code",
   "execution_count": 67,
   "id": "d836c73f",
   "metadata": {},
   "outputs": [
    {
     "name": "stdout",
     "output_type": "stream",
     "text": [
      "['Female' 'Male']\n",
      "['France' 'Spain' 'Germany']\n"
     ]
    }
   ],
   "source": [
    "print(df['Gender'].unique())\n",
    "print(df['Geography'].unique())"
   ]
  },
  {
   "cell_type": "code",
   "execution_count": 68,
   "id": "3c88f89a",
   "metadata": {},
   "outputs": [],
   "source": [
    "# train-test split\n",
    "X = df.drop('Exited',axis=1)\n",
    "y = df['Exited']\n",
    "\n",
    "from sklearn.model_selection import train_test_split\n",
    "\n",
    "X_train,X_test,y_train,y_test = train_test_split(X,y,test_size=0.25,random_state=38,stratify=y)"
   ]
  },
  {
   "cell_type": "code",
   "execution_count": 69,
   "id": "e0585063",
   "metadata": {},
   "outputs": [],
   "source": [
    "# pre-processing\n",
    "\n",
    "from sklearn.preprocessing import OneHotEncoder,StandardScaler\n",
    "from sklearn.pipeline import Pipeline\n",
    "from sklearn.compose import ColumnTransformer\n",
    "\n",
    "num_feats = X.select_dtypes(exclude='object').columns\n",
    "\n",
    "cat_pipeline = Pipeline([\n",
    "    ['ohe',OneHotEncoder(handle_unknown='ignore',sparse_output=False)]\n",
    "])\n",
    "\n",
    "num_pipeline = Pipeline([\n",
    "    ['scaler',StandardScaler()]\n",
    "])\n",
    "\n",
    "transformer = ColumnTransformer([\n",
    "    ['ohe',cat_pipeline,['Geography','Gender']],\n",
    "    ['scaled',num_pipeline,num_feats]\n",
    "])\n",
    "\n",
    "X_train_t = transformer.fit_transform(X_train)\n",
    "X_test_t = transformer.transform(X_test)"
   ]
  },
  {
   "cell_type": "code",
   "execution_count": 70,
   "id": "96a84a38",
   "metadata": {},
   "outputs": [
    {
     "data": {
      "text/plain": [
       "array(['ohe__Geography_France', 'ohe__Geography_Germany',\n",
       "       'ohe__Geography_Spain', 'ohe__Gender_Female', 'ohe__Gender_Male',\n",
       "       'scaled__CreditScore', 'scaled__Age', 'scaled__Tenure',\n",
       "       'scaled__Balance', 'scaled__NumOfProducts', 'scaled__HasCrCard',\n",
       "       'scaled__IsActiveMember', 'scaled__EstimatedSalary'], dtype=object)"
      ]
     },
     "execution_count": 70,
     "metadata": {},
     "output_type": "execute_result"
    }
   ],
   "source": [
    "# Label encoding\n",
    "\n",
    "transformer.get_feature_names_out()\n"
   ]
  },
  {
   "cell_type": "code",
   "execution_count": 71,
   "id": "8ecfb765",
   "metadata": {},
   "outputs": [],
   "source": [
    "df_X_train_t = pd.DataFrame(X_train_t,columns=transformer.get_feature_names_out())\n",
    "df_X_test_t = pd.DataFrame(X_test_t,columns=transformer.get_feature_names_out())"
   ]
  },
  {
   "cell_type": "code",
   "execution_count": 73,
   "id": "23a6ea92",
   "metadata": {},
   "outputs": [
    {
     "data": {
      "text/html": [
       "<div>\n",
       "<style scoped>\n",
       "    .dataframe tbody tr th:only-of-type {\n",
       "        vertical-align: middle;\n",
       "    }\n",
       "\n",
       "    .dataframe tbody tr th {\n",
       "        vertical-align: top;\n",
       "    }\n",
       "\n",
       "    .dataframe thead th {\n",
       "        text-align: right;\n",
       "    }\n",
       "</style>\n",
       "<table border=\"1\" class=\"dataframe\">\n",
       "  <thead>\n",
       "    <tr style=\"text-align: right;\">\n",
       "      <th></th>\n",
       "      <th>ohe__Geography_France</th>\n",
       "      <th>ohe__Geography_Germany</th>\n",
       "      <th>ohe__Geography_Spain</th>\n",
       "      <th>ohe__Gender_Male</th>\n",
       "      <th>scaled__CreditScore</th>\n",
       "      <th>scaled__Age</th>\n",
       "      <th>scaled__Tenure</th>\n",
       "      <th>scaled__Balance</th>\n",
       "      <th>scaled__NumOfProducts</th>\n",
       "      <th>scaled__HasCrCard</th>\n",
       "      <th>scaled__IsActiveMember</th>\n",
       "      <th>scaled__EstimatedSalary</th>\n",
       "    </tr>\n",
       "  </thead>\n",
       "  <tbody>\n",
       "    <tr>\n",
       "      <th>0</th>\n",
       "      <td>0.0</td>\n",
       "      <td>1.0</td>\n",
       "      <td>0.0</td>\n",
       "      <td>0.0</td>\n",
       "      <td>-1.645710</td>\n",
       "      <td>-0.085977</td>\n",
       "      <td>1.041188</td>\n",
       "      <td>-0.322010</td>\n",
       "      <td>0.815780</td>\n",
       "      <td>0.645729</td>\n",
       "      <td>-1.029502</td>\n",
       "      <td>1.542594</td>\n",
       "    </tr>\n",
       "    <tr>\n",
       "      <th>1</th>\n",
       "      <td>0.0</td>\n",
       "      <td>1.0</td>\n",
       "      <td>0.0</td>\n",
       "      <td>1.0</td>\n",
       "      <td>0.103297</td>\n",
       "      <td>0.485342</td>\n",
       "      <td>-1.378464</td>\n",
       "      <td>1.029849</td>\n",
       "      <td>-0.906729</td>\n",
       "      <td>0.645729</td>\n",
       "      <td>-1.029502</td>\n",
       "      <td>1.555976</td>\n",
       "    </tr>\n",
       "    <tr>\n",
       "      <th>2</th>\n",
       "      <td>1.0</td>\n",
       "      <td>0.0</td>\n",
       "      <td>0.0</td>\n",
       "      <td>0.0</td>\n",
       "      <td>-0.766032</td>\n",
       "      <td>-1.228614</td>\n",
       "      <td>-1.378464</td>\n",
       "      <td>1.663323</td>\n",
       "      <td>-0.906729</td>\n",
       "      <td>-1.548638</td>\n",
       "      <td>-1.029502</td>\n",
       "      <td>0.400855</td>\n",
       "    </tr>\n",
       "    <tr>\n",
       "      <th>3</th>\n",
       "      <td>1.0</td>\n",
       "      <td>0.0</td>\n",
       "      <td>0.0</td>\n",
       "      <td>1.0</td>\n",
       "      <td>-0.114035</td>\n",
       "      <td>0.580561</td>\n",
       "      <td>-1.378464</td>\n",
       "      <td>-1.239699</td>\n",
       "      <td>-0.906729</td>\n",
       "      <td>0.645729</td>\n",
       "      <td>0.971344</td>\n",
       "      <td>-1.560350</td>\n",
       "    </tr>\n",
       "    <tr>\n",
       "      <th>4</th>\n",
       "      <td>0.0</td>\n",
       "      <td>1.0</td>\n",
       "      <td>0.0</td>\n",
       "      <td>1.0</td>\n",
       "      <td>-1.925137</td>\n",
       "      <td>1.342319</td>\n",
       "      <td>-1.378464</td>\n",
       "      <td>0.648766</td>\n",
       "      <td>-0.906729</td>\n",
       "      <td>-1.548638</td>\n",
       "      <td>-1.029502</td>\n",
       "      <td>-0.445268</td>\n",
       "    </tr>\n",
       "  </tbody>\n",
       "</table>\n",
       "</div>"
      ],
      "text/plain": [
       "   ohe__Geography_France  ohe__Geography_Germany  ohe__Geography_Spain  \\\n",
       "0                    0.0                     1.0                   0.0   \n",
       "1                    0.0                     1.0                   0.0   \n",
       "2                    1.0                     0.0                   0.0   \n",
       "3                    1.0                     0.0                   0.0   \n",
       "4                    0.0                     1.0                   0.0   \n",
       "\n",
       "   ohe__Gender_Male  scaled__CreditScore  scaled__Age  scaled__Tenure  \\\n",
       "0               0.0            -1.645710    -0.085977        1.041188   \n",
       "1               1.0             0.103297     0.485342       -1.378464   \n",
       "2               0.0            -0.766032    -1.228614       -1.378464   \n",
       "3               1.0            -0.114035     0.580561       -1.378464   \n",
       "4               1.0            -1.925137     1.342319       -1.378464   \n",
       "\n",
       "   scaled__Balance  scaled__NumOfProducts  scaled__HasCrCard  \\\n",
       "0        -0.322010               0.815780           0.645729   \n",
       "1         1.029849              -0.906729           0.645729   \n",
       "2         1.663323              -0.906729          -1.548638   \n",
       "3        -1.239699              -0.906729           0.645729   \n",
       "4         0.648766              -0.906729          -1.548638   \n",
       "\n",
       "   scaled__IsActiveMember  scaled__EstimatedSalary  \n",
       "0               -1.029502                 1.542594  \n",
       "1               -1.029502                 1.555976  \n",
       "2               -1.029502                 0.400855  \n",
       "3                0.971344                -1.560350  \n",
       "4               -1.029502                -0.445268  "
      ]
     },
     "execution_count": 73,
     "metadata": {},
     "output_type": "execute_result"
    }
   ],
   "source": [
    "df_X_train_t.drop('ohe__Gender_Female',axis=1,inplace=True)\n",
    "df_X_test_t.drop('ohe__Gender_Female',axis=1,inplace=True)\n",
    "\n",
    "df_X_train_t.head()"
   ]
  },
  {
   "cell_type": "code",
   "execution_count": 78,
   "id": "3ad03059",
   "metadata": {},
   "outputs": [],
   "source": [
    "# creating .pkl\n",
    "\n",
    "with open('transformer.pkl','wb') as f:\n",
    "    dill.dump(transformer,f)"
   ]
  },
  {
   "cell_type": "code",
   "execution_count": 84,
   "id": "e5d697c0",
   "metadata": {},
   "outputs": [],
   "source": [
    "# ANN\n",
    "\n",
    "import tensorflow as tf\n",
    "import datetime \n",
    "\n",
    "from tensorflow.keras.models import Sequential\n",
    "from tensorflow.keras.layers import Dense,Input\n",
    "from tensorflow.keras.callbacks import EarlyStopping,TensorBoard"
   ]
  },
  {
   "cell_type": "code",
   "execution_count": 90,
   "id": "86f855f4",
   "metadata": {},
   "outputs": [],
   "source": [
    "# model building\n",
    "\n",
    "model = Sequential([\n",
    "    Input(shape=(X_train_t.shape[1],)),\n",
    "\n",
    "    Dense(64,activation='relu'),\n",
    "    Dense(32,activation='relu'),\n",
    "    Dense(1,activation='sigmoid')\n",
    "])"
   ]
  },
  {
   "cell_type": "code",
   "execution_count": 91,
   "id": "ca042b4d",
   "metadata": {},
   "outputs": [],
   "source": [
    "model.compile(optimizer='adam',loss='binary_crossentropy',metrics=['accuracy'])"
   ]
  },
  {
   "cell_type": "code",
   "execution_count": 97,
   "id": "9952b4fe",
   "metadata": {},
   "outputs": [],
   "source": [
    "# setting up TensorBoard & EarlyStopping\n",
    "\n",
    "log_dir = 'log/fit/' + datetime.datetime.now().strftime('%Y%m%d-%H%M%S')\n",
    "\n",
    "board = TensorBoard(log_dir=log_dir,histogram_freq=1)\n",
    "\n",
    "early_stop = EarlyStopping(monitor='val_loss',patience=5,restore_best_weights=True)"
   ]
  },
  {
   "cell_type": "code",
   "execution_count": 98,
   "id": "eca555eb",
   "metadata": {},
   "outputs": [
    {
     "name": "stdout",
     "output_type": "stream",
     "text": [
      "Epoch 1/100\n",
      "\u001b[1m235/235\u001b[0m \u001b[32m━━━━━━━━━━━━━━━━━━━━\u001b[0m\u001b[37m\u001b[0m \u001b[1m2s\u001b[0m 7ms/step - accuracy: 0.8676 - loss: 0.3189 - val_accuracy: 0.8596 - val_loss: 0.3387\n",
      "Epoch 2/100\n",
      "\u001b[1m235/235\u001b[0m \u001b[32m━━━━━━━━━━━━━━━━━━━━\u001b[0m\u001b[37m\u001b[0m \u001b[1m1s\u001b[0m 5ms/step - accuracy: 0.8685 - loss: 0.3181 - val_accuracy: 0.8576 - val_loss: 0.3403\n",
      "Epoch 3/100\n",
      "\u001b[1m235/235\u001b[0m \u001b[32m━━━━━━━━━━━━━━━━━━━━\u001b[0m\u001b[37m\u001b[0m \u001b[1m1s\u001b[0m 5ms/step - accuracy: 0.8700 - loss: 0.3166 - val_accuracy: 0.8560 - val_loss: 0.3400\n",
      "Epoch 4/100\n",
      "\u001b[1m235/235\u001b[0m \u001b[32m━━━━━━━━━━━━━━━━━━━━\u001b[0m\u001b[37m\u001b[0m \u001b[1m1s\u001b[0m 5ms/step - accuracy: 0.8692 - loss: 0.3159 - val_accuracy: 0.8600 - val_loss: 0.3385\n",
      "Epoch 5/100\n",
      "\u001b[1m235/235\u001b[0m \u001b[32m━━━━━━━━━━━━━━━━━━━━\u001b[0m\u001b[37m\u001b[0m \u001b[1m1s\u001b[0m 6ms/step - accuracy: 0.8677 - loss: 0.3142 - val_accuracy: 0.8552 - val_loss: 0.3438\n",
      "Epoch 6/100\n",
      "\u001b[1m235/235\u001b[0m \u001b[32m━━━━━━━━━━━━━━━━━━━━\u001b[0m\u001b[37m\u001b[0m \u001b[1m1s\u001b[0m 5ms/step - accuracy: 0.8719 - loss: 0.3136 - val_accuracy: 0.8588 - val_loss: 0.3401\n",
      "Epoch 7/100\n",
      "\u001b[1m235/235\u001b[0m \u001b[32m━━━━━━━━━━━━━━━━━━━━\u001b[0m\u001b[37m\u001b[0m \u001b[1m1s\u001b[0m 5ms/step - accuracy: 0.8731 - loss: 0.3106 - val_accuracy: 0.8528 - val_loss: 0.3408\n",
      "Epoch 8/100\n",
      "\u001b[1m235/235\u001b[0m \u001b[32m━━━━━━━━━━━━━━━━━━━━\u001b[0m\u001b[37m\u001b[0m \u001b[1m2s\u001b[0m 9ms/step - accuracy: 0.8713 - loss: 0.3108 - val_accuracy: 0.8576 - val_loss: 0.3411\n",
      "Epoch 9/100\n",
      "\u001b[1m235/235\u001b[0m \u001b[32m━━━━━━━━━━━━━━━━━━━━\u001b[0m\u001b[37m\u001b[0m \u001b[1m1s\u001b[0m 5ms/step - accuracy: 0.8709 - loss: 0.3109 - val_accuracy: 0.8568 - val_loss: 0.3426\n"
     ]
    }
   ],
   "source": [
    "# model training \n",
    "\n",
    "history = model.fit(\n",
    "    X_train_t,y_train,\n",
    "    validation_data=(X_test_t,y_test),\n",
    "    epochs=100,\n",
    "    callbacks=[board,early_stop]\n",
    ")"
   ]
  },
  {
   "cell_type": "code",
   "execution_count": 99,
   "id": "65fed137",
   "metadata": {},
   "outputs": [],
   "source": [
    "model.save('ann_class_model.keras')"
   ]
  },
  {
   "cell_type": "code",
   "execution_count": null,
   "id": "e1cd44b2",
   "metadata": {},
   "outputs": [],
   "source": [
    "%load_ext tensorboard\n",
    "%tensorboard --logdir=log/fit --port=6006"
   ]
  }
 ],
 "metadata": {
  "kernelspec": {
   "display_name": "my_env",
   "language": "python",
   "name": "python3"
  },
  "language_info": {
   "codemirror_mode": {
    "name": "ipython",
    "version": 3
   },
   "file_extension": ".py",
   "mimetype": "text/x-python",
   "name": "python",
   "nbconvert_exporter": "python",
   "pygments_lexer": "ipython3",
   "version": "3.11.13"
  }
 },
 "nbformat": 4,
 "nbformat_minor": 5
}
